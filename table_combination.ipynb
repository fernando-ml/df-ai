{
 "cells": [
  {
   "cell_type": "code",
   "execution_count": 99,
   "metadata": {},
   "outputs": [
    {
     "name": "stdout",
     "output_type": "stream",
     "text": [
      "Data combined successfully!\n"
     ]
    }
   ],
   "source": [
    "import pandas as pd\n",
    "import os\n",
    "import glob\n",
    "\n",
    "directory = '/Users/femartinez/Documents/Research/DecodingFatphobia/data'\n",
    "\n",
    "files = glob.glob(os.path.join(directory, '* image ratings.xlsx'))\n",
    "\n",
    "dataframes = []\n",
    "missing_rows_log = []\n",
    "# \n",
    "def to_tuple(value):\n",
    "    '''\n",
    "    Convert values to tuples\n",
    "    '''\n",
    "    if isinstance(value, (int, float)):\n",
    "        return (value,)\n",
    "    elif isinstance(value, str):\n",
    "        return tuple(map(str.strip, value.split(',')))\n",
    "    return (value,)\n",
    "\n",
    "# Loop through each file\n",
    "for file in files:\n",
    "   \n",
    "    rater = str.upper(file.split('/')[-1].split(' ')[0]) # based on file name i.e.: 'final JANE image ratings - decoding fatphobia.xlsx'\n",
    "#     # Read the Excel file\n",
    "    excel_file = pd.ExcelFile(file)\n",
    "    \n",
    "#     # Loop through each sheet in the file\n",
    "    for sheet_name in excel_file.sheet_names:\n",
    "#         # Read the sheet data, handling variable number of columns\n",
    "        df = pd.read_excel(file, sheet_name=sheet_name, skiprows=2)\n",
    "#         print(sheet_name, \"rows: \")\n",
    "        # Ensure we have the correct number of columns\n",
    "        if df.shape[1] == 4:\n",
    "            df.columns = [\"Photo #\", \"Weight (1-10)\", \"Gender\", \"Race\"]\n",
    "            df[\"Notes\"] = \"\"\n",
    "        elif df.shape[1] == 5:\n",
    "            df.columns = [\"Photo #\", \"Weight (1-10)\", \"Gender\", \"Race\", \"Notes\"]\n",
    "        else:\n",
    "            continue\n",
    "        \n",
    "        df[\"Weight (1-10)\"] = df[\"Weight (1-10)\"].apply(to_tuple)\n",
    "        df[\"Gender\"] = df[\"Gender\"].apply(to_tuple)\n",
    "        df[\"Race\"] = df[\"Race\"].apply(to_tuple)\n",
    "        \n",
    "        df[\"RATER\"] = rater\n",
    "        df[\"LABEL\"] = sheet_name\n",
    "\n",
    "        dataframes.append(df)\n",
    "\n",
    "final_df = pd.concat(dataframes, ignore_index=True)\n",
    "final_df = final_df[['RATER', 'LABEL', 'Photo #', \"Weight (1-10)\", \"Gender\", \"Race\"]]\n",
    "cleaned_df = final_df.copy()\n",
    "\n",
    "cleaned_df['WeightRate_Person1'] = cleaned_df['Weight (1-10)'].map(lambda x: float(x[0]))\n",
    "cleaned_df['WeightRate_Person2'] = cleaned_df['Weight (1-10)'].map(lambda x: float(x[1]) if len(x)>1 else pd.NA)\n",
    "cleaned_df['Gender_Person1'] = cleaned_df['Gender'].map(lambda x: x[0])\n",
    "cleaned_df['Gender_Person2'] = cleaned_df['Gender'].map(lambda x: x[1] if len(x)>1 else pd.NA)\n",
    "cleaned_df['Race_Person1'] = cleaned_df['Race'].map(lambda x: x[0])\n",
    "cleaned_df['Race_Person2'] = cleaned_df['Race'].map(lambda x: x[1] if len(x)>1 else pd.NA)\n",
    "\n",
    "cleaned_df.drop(['Weight (1-10)', 'Gender', 'Race'], axis=1, inplace=True)\n",
    "\n",
    "consolidated = cleaned_df.groupby(['LABEL','Photo #'])[[\"WeightRate_Person1\",'WeightRate_Person2','Gender_Person1','Gender_Person2','Race_Person1','Race_Person2']].agg({\n",
    "                    'WeightRate_Person1': pd.Series.mean,\n",
    "                    'WeightRate_Person2': pd.Series.mean,\n",
    "                    'Gender_Person1': pd.Series.mode,\n",
    "                    'Gender_Person2': pd.Series.mode,\n",
    "                    'Race_Person1': pd.Series.mode,\n",
    "                    'Race_Person2': pd.Series.mode\n",
    "                }).reset_index()\n",
    "\n",
    "consolidated.to_excel(os.path.join(directory, 'consolidated.xlsx'), index=False)\n",
    "\n",
    "print(\"Data combined successfully!\")"
   ]
  },
  {
   "cell_type": "code",
   "execution_count": 79,
   "metadata": {},
   "outputs": [
    {
     "name": "stdout",
     "output_type": "stream",
     "text": [
      "JANE 40\n",
      "AKASH 40\n",
      "DAVID 40\n",
      "ANNIKA 40\n"
     ]
    }
   ],
   "source": [
    "for rater in final_df.RATER.unique():\n",
    "    print(rater, len(final_df[(final_df['RATER']==rater)].sort_values(by='LABEL').LABEL.unique()))\n",
    "\n",
    "for label in final_df.LABEL.unique():\n",
    "    c_labels = len(final_df[(final_df['LABEL']==label)].sort_values(by='RATER').RATER.unique())\n",
    "    if c_labels != 4:\n",
    "        print(label)"
   ]
  }
 ],
 "metadata": {
  "kernelspec": {
   "display_name": "disentanglement_env",
   "language": "python",
   "name": "python3"
  },
  "language_info": {
   "codemirror_mode": {
    "name": "ipython",
    "version": 3
   },
   "file_extension": ".py",
   "mimetype": "text/x-python",
   "name": "python",
   "nbconvert_exporter": "python",
   "pygments_lexer": "ipython3",
   "version": "3.11.8"
  }
 },
 "nbformat": 4,
 "nbformat_minor": 2
}
